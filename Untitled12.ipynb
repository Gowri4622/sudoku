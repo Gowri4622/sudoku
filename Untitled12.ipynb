{
  "nbformat": 4,
  "nbformat_minor": 0,
  "metadata": {
    "colab": {
      "provenance": [],
      "authorship_tag": "ABX9TyOK4W0ce30iUjJozrFyDhJI",
      "include_colab_link": true
    },
    "kernelspec": {
      "name": "python3",
      "display_name": "Python 3"
    },
    "language_info": {
      "name": "python"
    }
  },
  "cells": [
    {
      "cell_type": "markdown",
      "metadata": {
        "id": "view-in-github",
        "colab_type": "text"
      },
      "source": [
        "<a href=\"https://colab.research.google.com/github/Gowri4622/sudoku/blob/main/Untitled12.ipynb\" target=\"_parent\"><img src=\"https://colab.research.google.com/assets/colab-badge.svg\" alt=\"Open In Colab\"/></a>"
      ]
    },
    {
      "cell_type": "code",
      "execution_count": 1,
      "metadata": {
        "id": "SR5KK3euKv7H"
      },
      "outputs": [],
      "source": [
        "import numpy as np\n",
        "import tensorflow as tf\n",
        "from tensorflow import keras\n",
        "from tensorflow.keras import layers\n"
      ]
    },
    {
      "cell_type": "code",
      "source": [
        "model=keras.Sequential()"
      ],
      "metadata": {
        "id": "VFeUVKEuLEbJ"
      },
      "execution_count": 2,
      "outputs": []
    },
    {
      "cell_type": "code",
      "source": [
        "input=keras.Input(shape=(5,5,1))\n",
        "model.add(input)"
      ],
      "metadata": {
        "id": "GTgyoPUGLEen"
      },
      "execution_count": 4,
      "outputs": []
    },
    {
      "cell_type": "code",
      "source": [
        "layer1=layers.Conv2D(filters=1,kernel_size=(3,3))\n",
        "model.add(layer1)"
      ],
      "metadata": {
        "id": "ES1c_f5MLEhR"
      },
      "execution_count": 6,
      "outputs": []
    },
    {
      "cell_type": "code",
      "source": [
        "model.summary()"
      ],
      "metadata": {
        "colab": {
          "base_uri": "https://localhost:8080/"
        },
        "id": "jnKY_LCjLEkX",
        "outputId": "d7a64478-6fb4-4a2a-b8d4-2127e70bf91e"
      },
      "execution_count": 7,
      "outputs": [
        {
          "output_type": "stream",
          "name": "stdout",
          "text": [
            "Model: \"sequential\"\n",
            "_________________________________________________________________\n",
            " Layer (type)                Output Shape              Param #   \n",
            "=================================================================\n",
            " conv2d_1 (Conv2D)           (None, 3, 3, 1)           10        \n",
            "                                                                 \n",
            "=================================================================\n",
            "Total params: 10\n",
            "Trainable params: 10\n",
            "Non-trainable params: 0\n",
            "_________________________________________________________________\n"
          ]
        }
      ]
    },
    {
      "cell_type": "code",
      "source": [
        "layer1.weights"
      ],
      "metadata": {
        "colab": {
          "base_uri": "https://localhost:8080/"
        },
        "id": "LdVZ9AztL7un",
        "outputId": "393a1ac9-0b47-4490-98d5-a7219b9f94a5"
      },
      "execution_count": 8,
      "outputs": [
        {
          "output_type": "execute_result",
          "data": {
            "text/plain": [
              "[<tf.Variable 'conv2d_1/kernel:0' shape=(3, 3, 1, 1) dtype=float32, numpy=\n",
              " array([[[[-0.44474855]],\n",
              " \n",
              "         [[-0.48072076]],\n",
              " \n",
              "         [[-0.53018534]]],\n",
              " \n",
              " \n",
              "        [[[-0.17052016]],\n",
              " \n",
              "         [[ 0.5183462 ]],\n",
              " \n",
              "         [[-0.30881664]]],\n",
              " \n",
              " \n",
              "        [[[-0.44160104]],\n",
              " \n",
              "         [[-0.06528705]],\n",
              " \n",
              "         [[ 0.5223018 ]]]], dtype=float32)>,\n",
              " <tf.Variable 'conv2d_1/bias:0' shape=(1,) dtype=float32, numpy=array([0.], dtype=float32)>]"
            ]
          },
          "metadata": {},
          "execution_count": 8
        }
      ]
    },
    {
      "cell_type": "code",
      "source": [
        "w=np.array([[1,0,1],[0,1,0],[1,0,1]]).reshape(3,3,1,1)"
      ],
      "metadata": {
        "id": "XqGUYkjyL7xd"
      },
      "execution_count": 9,
      "outputs": []
    },
    {
      "cell_type": "code",
      "source": [
        "layer1.weights[0].assign(w)"
      ],
      "metadata": {
        "colab": {
          "base_uri": "https://localhost:8080/"
        },
        "id": "eqHlyaebL70F",
        "outputId": "69260c86-09ad-4874-a606-edb69196bd40"
      },
      "execution_count": 10,
      "outputs": [
        {
          "output_type": "execute_result",
          "data": {
            "text/plain": [
              "<tf.Variable 'UnreadVariable' shape=(3, 3, 1, 1) dtype=float32, numpy=\n",
              "array([[[[1.]],\n",
              "\n",
              "        [[0.]],\n",
              "\n",
              "        [[1.]]],\n",
              "\n",
              "\n",
              "       [[[0.]],\n",
              "\n",
              "        [[1.]],\n",
              "\n",
              "        [[0.]]],\n",
              "\n",
              "\n",
              "       [[[1.]],\n",
              "\n",
              "        [[0.]],\n",
              "\n",
              "        [[1.]]]], dtype=float32)>"
            ]
          },
          "metadata": {},
          "execution_count": 10
        }
      ]
    },
    {
      "cell_type": "code",
      "source": [
        "layer1.weights[1].assign([0])"
      ],
      "metadata": {
        "colab": {
          "base_uri": "https://localhost:8080/"
        },
        "id": "o1pXYhllL75H",
        "outputId": "4ee5cc32-bc70-4f15-c6ad-6d7b012343ff"
      },
      "execution_count": 11,
      "outputs": [
        {
          "output_type": "execute_result",
          "data": {
            "text/plain": [
              "<tf.Variable 'UnreadVariable' shape=(1,) dtype=float32, numpy=array([0.], dtype=float32)>"
            ]
          },
          "metadata": {},
          "execution_count": 11
        }
      ]
    },
    {
      "cell_type": "code",
      "source": [
        "x=np.array([[1,1,1,0,0],[0,1,1,1,0],[0,0,1,1,1],[0,0,1,1,0],[0,1,1,0,0]]).reshape(1,5,5,1)"
      ],
      "metadata": {
        "id": "MLLtHLpRMipB"
      },
      "execution_count": 14,
      "outputs": []
    },
    {
      "cell_type": "code",
      "source": [
        "model.predict(x)"
      ],
      "metadata": {
        "colab": {
          "base_uri": "https://localhost:8080/"
        },
        "id": "RHEANK17MivM",
        "outputId": "b0aef8f4-3546-45d1-de04-40b631e9703e"
      },
      "execution_count": 15,
      "outputs": [
        {
          "output_type": "execute_result",
          "data": {
            "text/plain": [
              "array([[[[4.],\n",
              "         [3.],\n",
              "         [4.]],\n",
              "\n",
              "        [[2.],\n",
              "         [4.],\n",
              "         [3.]],\n",
              "\n",
              "        [[2.],\n",
              "         [3.],\n",
              "         [4.]]]], dtype=float32)"
            ]
          },
          "metadata": {},
          "execution_count": 15
        }
      ]
    },
    {
      "cell_type": "code",
      "source": [],
      "metadata": {
        "id": "Obf4TcWcMiyE"
      },
      "execution_count": null,
      "outputs": []
    },
    {
      "cell_type": "code",
      "source": [],
      "metadata": {
        "id": "JxKUVXjTL77_"
      },
      "execution_count": null,
      "outputs": []
    }
  ]
}